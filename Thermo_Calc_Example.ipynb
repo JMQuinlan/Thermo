{
  "nbformat": 4,
  "nbformat_minor": 0,
  "metadata": {
    "colab": {
      "name": "Thermo_Calc_Example.ipynb",
      "provenance": [],
      "collapsed_sections": [],
      "authorship_tag": "ABX9TyOLP/VX6RgZ4CWgQUzEJocX",
      "include_colab_link": true
    },
    "kernelspec": {
      "name": "python3",
      "display_name": "Python 3"
    }
  },
  "cells": [
    {
      "cell_type": "markdown",
      "metadata": {
        "id": "view-in-github",
        "colab_type": "text"
      },
      "source": [
        "<a href=\"https://colab.research.google.com/github/JMQuinlan/Thermo/blob/main/Thermo_Calc_Example.ipynb\" target=\"_parent\"><img src=\"https://colab.research.google.com/assets/colab-badge.svg\" alt=\"Open In Colab\"/></a>"
      ]
    },
    {
      "cell_type": "markdown",
      "metadata": {
        "id": "II5cD9jNhHRZ"
      },
      "source": [
        "# MAE 3302 - Thermo 2\r\n",
        "# Thermodynamic calculations the easy way!\r\n",
        "\r\n",
        "copyright 2021 - J. M. Quinlan  \r\n",
        "University of Colorado  \r\n",
        "Colorado Springs\r\n",
        "\r\n",
        "This notebook will show you how to evaluate thermodynamic properties using CoolProp, a python wrapper based on NIST tables in the form of RefProp.\r\n",
        "\r\n",
        "I have also included a short python introduction below, which should be about everything you need to get started.\r\n"
      ]
    },
    {
      "cell_type": "markdown",
      "metadata": {
        "id": "LmxypGZmh-iE"
      },
      "source": [
        "# CoolProp\r\n",
        "Let's start by installing any libraries that we will need.\r\n",
        "Here only \"CoolProp\":"
      ]
    },
    {
      "cell_type": "code",
      "metadata": {
        "colab": {
          "base_uri": "https://localhost:8080/"
        },
        "id": "jpM1uGKXhCu8",
        "outputId": "e7e34abf-13a7-41a4-b34d-16c93daebf3b"
      },
      "source": [
        "! pip install CoolProp"
      ],
      "execution_count": 6,
      "outputs": [
        {
          "output_type": "stream",
          "text": [
            "Requirement already satisfied: CoolProp in /usr/local/lib/python3.7/dist-packages (6.4.1)\n"
          ],
          "name": "stdout"
        }
      ]
    },
    {
      "cell_type": "markdown",
      "metadata": {
        "id": "8Cowkq8aoKuJ"
      },
      "source": [
        "The above code should let you know that the library was installed (or previously installed in subsequent executions).\r\n",
        "The ! tells the CoLab that the command is for the command line, not python.\r\n",
        "\r\n",
        "Now, we import the library:"
      ]
    },
    {
      "cell_type": "code",
      "metadata": {
        "id": "ymArq5VkpkVE"
      },
      "source": [
        "import CoolProp.CoolProp as CP"
      ],
      "execution_count": 7,
      "outputs": []
    },
    {
      "cell_type": "markdown",
      "metadata": {
        "id": "m-FXQ1ZFpsBS"
      },
      "source": [
        "We only import the part of the library that we will use, and, we are giving it an alias so that when we access it we don't have to type so much.\r\n",
        "\r\n",
        "Now we can call the library's functions, for example to evaluate the saturation temperature of water at 1 atm (seems like we should already know that though):"
      ]
    },
    {
      "cell_type": "code",
      "metadata": {
        "colab": {
          "base_uri": "https://localhost:8080/"
        },
        "id": "PG9fR5srqYZr",
        "outputId": "e70bf94d-c739-49c6-b907-185eeeffe3a0"
      },
      "source": [
        "T_sat = CP.PropsSI('T','P',101325.,'Q',0.,'Water')\r\n",
        "# Simple print statement:\r\n",
        "print(T_sat)\r\n",
        "# More useful print statement\r\n",
        "print('The saturation temperature at 1 atm is: '+str(round(T_sat ,4))+' K')"
      ],
      "execution_count": 8,
      "outputs": [
        {
          "output_type": "stream",
          "text": [
            "373.1242958476844\n",
            "The saturation temperature at 1 atm is: 373.1243 K\n"
          ],
          "name": "stdout"
        }
      ]
    },
    {
      "cell_type": "markdown",
      "metadata": {
        "id": "TIHnYjALrTvd"
      },
      "source": [
        "We can see a few things from this simple example.\r\n",
        "\r\n",
        "First the units are fundamental SI units: Pa, K, J, N, m, ...\r\n",
        "\r\n",
        "Next we see the function call is:\r\n",
        "\r\n",
        "(1) a string telling function what you would like returned, here, 'T', which stands for temperature.  \r\n",
        "(2) the first intensive property that you know, via a string, here, 'P', which stands for Pressure.  \r\n",
        "(3) the SI united value of the first intensive property.  \r\n",
        "(4) the second intensive property that you know, via a string, here, 'Q', which stands for Quality.  Note that we would get the same value of T_sat for any valid quality, namely Q in [0,1].  \r\n",
        "(5) the SI united value of the second intensive property.  \r\n",
        "(6) the substance of which you want to find the property.  Note here that this can be a pure substance, like 'Water', or a pseudo-pure substance (acts approximately like a pure substance), like 'Air'.\r\n",
        "\r\n",
        "This makes sense, if we know two independent intensive properties, we can find all others.\r\n",
        "\r\n",
        "You could find the enthalpy of saturated water vapor at 1 atm with:"
      ]
    },
    {
      "cell_type": "code",
      "metadata": {
        "colab": {
          "base_uri": "https://localhost:8080/"
        },
        "id": "btm0Fm1VuTZp",
        "outputId": "49884e5a-c9f7-43f4-f421-1582ee99a4f4"
      },
      "source": [
        "H_sat_vapor = CP.PropsSI('H','P',101325.,'Q',1.,'Water')\r\n",
        "print('The enthalpy of saturated water vapor at 1 atm is: '+str(round(H_sat_vapor ,4))+' J/kg')"
      ],
      "execution_count": 9,
      "outputs": [
        {
          "output_type": "stream",
          "text": [
            "The enthalpy of saturated water vapor at 1 atm is: 2675529.3255 J/kg\n"
          ],
          "name": "stdout"
        }
      ]
    },
    {
      "cell_type": "markdown",
      "metadata": {
        "id": "RXzL3phmu-AN"
      },
      "source": [
        "This value should be 1000 times what is listed in your book (book's tables are in kJ/kg).\r\n",
        "\r\n",
        "To find the entropy of air at 3 atm and 1500 K you would input:"
      ]
    },
    {
      "cell_type": "code",
      "metadata": {
        "colab": {
          "base_uri": "https://localhost:8080/"
        },
        "id": "vEkpKaYFvMdu",
        "outputId": "afb33cd5-e46e-47b0-c1b6-2243acc9d554"
      },
      "source": [
        "S_air = CP.PropsSI('S','P',3.*101325.,'T',1500.,'Air')\r\n",
        "print('The entropy of air at 3 atm and 1500 K is: '+str(round(S_air ,4))+' J/(kg K)')"
      ],
      "execution_count": 10,
      "outputs": [
        {
          "output_type": "stream",
          "text": [
            "The entropy of air at 3 atm and 1500 K is: 5315.3342 J/(kg K)\n"
          ],
          "name": "stdout"
        }
      ]
    },
    {
      "cell_type": "markdown",
      "metadata": {
        "id": "6QnQywBOwXfY"
      },
      "source": [
        "This value will not be directly comparable to values in the book’s tables due to differences in the reference state, but as long as you are finding ∆s, which we will be, then you should find comparable results—try it.\r\n",
        "\r\n",
        "***\r\n",
        "\r\n",
        "Let's work on calculating what we might need for a process.\r\n",
        "\r\n",
        "If you wanted to find the change in mass specific enthalpy for water vapor through an isentropic process from 500 K and 1 atm to 1000 K, the code might look like this:"
      ]
    },
    {
      "cell_type": "code",
      "metadata": {
        "colab": {
          "base_uri": "https://localhost:8080/"
        },
        "id": "A-yNSbSBwbo9",
        "outputId": "980eabbf-21ae-4471-b0fc-8eaf7fb55324"
      },
      "source": [
        "T1 = 500.\r\n",
        "p1 = 101325.\r\n",
        "T2 = 1000.\r\n",
        "\r\n",
        "h1 = CP.PropsSI('H','P',p1,'T',T1,'Water')\r\n",
        "s1 = CP.PropsSI('S','P',p1,'T',T1,'Water')\r\n",
        "\r\n",
        "s2 = s1\r\n",
        "\r\n",
        "h2 = CP.PropsSI('H','S',s2,'T',T2,'Water')\r\n",
        "Delta_h = h2 - h1\r\n",
        "\r\n",
        "# If you wanted to know p_2\r\n",
        "p2 = CP.PropsSI('P','S',s2,'T',T2,'Water')\r\n",
        "\r\n",
        "# Print \\Delta enthalpy\r\n",
        "\r\n",
        "print('The change in enthalpy is: '+str(round(Delta_h ,4))+' J/kg')\r\n",
        "print('And the pressure at state 2 is: '+str(round(p2 ,4))+' Pa'+' or '+str(round(p2/101325. ,4))+' atm')"
      ],
      "execution_count": 25,
      "outputs": [
        {
          "output_type": "stream",
          "text": [
            "The change in enthalpy is: 1049800.8625 J/kg\n",
            "And the pressure at state 2 is: 2346116.0688 Pa or 23.1544 atm\n"
          ],
          "name": "stdout"
        }
      ]
    },
    {
      "cell_type": "markdown",
      "metadata": {
        "id": "4ZlaliKRKdMG"
      },
      "source": [
        "# Python tips\r\n",
        "\r\n",
        "Now let's see how to use python.\r\n",
        "\r\n",
        "Again, we'll likely need to import some libraries.\r\n",
        "\r\n",
        "We might want some useful functions to do some math (from \"math\").\r\n",
        "\r\n",
        "Or use more involved numerical libraries, like NumPy."
      ]
    },
    {
      "cell_type": "code",
      "metadata": {
        "colab": {
          "base_uri": "https://localhost:8080/"
        },
        "id": "TKUMO-NfLNnR",
        "outputId": "308b66aa-4cee-4259-f7c9-b1e26023ebf1"
      },
      "source": [
        "from math import exp,pi\r\n",
        "import numpy as np\r\n",
        "\r\n",
        "# For example, to find sin(pi) (which equals zero) you would input:\r\n",
        "needed_value = np.sin(pi)\r\n",
        "print(needed_value)\r\n",
        "# Note that the value isn't exactly zero"
      ],
      "execution_count": 14,
      "outputs": [
        {
          "output_type": "stream",
          "text": [
            "1.2246467991473532e-16\n"
          ],
          "name": "stdout"
        }
      ]
    },
    {
      "cell_type": "markdown",
      "metadata": {
        "id": "7jv07vPELpN4"
      },
      "source": [
        "High-quality plots (vector graphics) are generated using the matpolotlib module. Once the figure has been generated and looks how you want it, then export the plot as a vector graphics file (Matlab could only dream to output such nice figures with a bunch of work, though, it can be done, see export_fig by Yair Altman):"
      ]
    },
    {
      "cell_type": "code",
      "metadata": {
        "colab": {
          "base_uri": "https://localhost:8080/",
          "height": 371
        },
        "id": "RrHiZSbhLs8C",
        "outputId": "de07e11c-ca2f-40b2-88e8-3fa5b73579c8"
      },
      "source": [
        "from matplotlib import pyplot\r\n",
        "import matplotlib.pyplot as plt\r\n",
        "\r\n",
        "fig = plt.figure(32,figsize=(6,5))\r\n",
        "tvec = np.linspace(0,2,num=100)\r\n",
        "plt.plot(tvec,np.exp(tvec),'-b',label='Exp')\r\n",
        "plt.legend(loc=6)\r\n",
        "plt.xlabel('t')\r\n",
        "plt.xlim([0, 2])\r\n",
        "plt.ylabel('exp(t)')\r\n",
        "\r\n",
        "plt.show()\r\n",
        "\r\n",
        "fig.savefig('Fig_test.eps')\r\n",
        "# or output pdf file (just don't waste your time outputting jpg or png files)\r\n",
        "fig.savefig('Fig_test.pdf')\r\n",
        "\r\n",
        "plt.close()"
      ],
      "execution_count": 23,
      "outputs": [
        {
          "output_type": "display_data",
          "data": {
            "image/png": "[encoded data removed]",
            "text/plain": [
              "<Figure size 432x360 with 1 Axes>"
            ]
          },
          "metadata": {
            "tags": [],
            "needs_background": "light"
          }
        },
        {
          "output_type": "stream",
          "text": [
            "The PostScript backend does not support transparency; partially transparent artists will be rendered opaque.\n",
            "The PostScript backend does not support transparency; partially transparent artists will be rendered opaque.\n"
          ],
          "name": "stderr"
        }
      ]
    },
    {
      "cell_type": "markdown",
      "metadata": {
        "id": "JT9C1VmVNrl3"
      },
      "source": [
        "You can click on the folder on the left-hand side of the window to see the saved files.\r\n",
        "\r\n",
        "We have saved the file as an Encapsulated PostScript file, great for LaTeX, but not very well supported on Windows, so it may be better to use the pdf file.\r\n",
        "\r\n",
        "Get started!"
      ]
    }
  ]
}
