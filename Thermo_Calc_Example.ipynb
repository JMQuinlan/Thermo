{
  "nbformat": 4,
  "nbformat_minor": 0,
  "metadata": {
    "colab": {
      "name": "Thermo_Calc_Example.ipynb",
      "provenance": [],
      "collapsed_sections": [],
      "authorship_tag": "ABX9TyNGqV7Bq/uvEyokPoB6waDq",
      "include_colab_link": true
    },
    "kernelspec": {
      "name": "python3",
      "display_name": "Python 3"
    }
  },
  "cells": [
    {
      "cell_type": "markdown",
      "metadata": {
        "id": "view-in-github",
        "colab_type": "text"
      },
      "source": [
        "<a href=\"https://colab.research.google.com/github/JMQuinlan/Thermo/blob/main/Thermo_Calc_Example.ipynb\" target=\"_parent\"><img src=\"https://colab.research.google.com/assets/colab-badge.svg\" alt=\"Open In Colab\"/></a>"
      ]
    },
    {
      "cell_type": "markdown",
      "metadata": {
        "id": "II5cD9jNhHRZ"
      },
      "source": [
        "# MAE 3302 - Thermo 2\r\n",
        "# Thermodynamic calculations the easy way!\r\n",
        "\r\n",
        ":copyright: 2021 J. M. Quinlan\r\n",
        "\r\n",
        "This notebook will show you how to evaluate thermodynamic properties using CoolProp, a python wrapper based on NIST tables in the form of RefProp.\r\n",
        "\r\n"
      ]
    },
    {
      "cell_type": "markdown",
      "metadata": {
        "id": "LmxypGZmh-iE"
      },
      "source": [
        "Let's start by installing any libraies that we will need.\r\n",
        "Here only \"CoolProp\":"
      ]
    },
    {
      "cell_type": "code",
      "metadata": {
        "colab": {
          "base_uri": "https://localhost:8080/"
        },
        "id": "jpM1uGKXhCu8",
        "outputId": "54fead95-6187-479f-d638-5aa11b52209c"
      },
      "source": [
        "! pip install CoolProp"
      ],
      "execution_count": 1,
      "outputs": [
        {
          "output_type": "stream",
          "text": [
            "Requirement already satisfied: CoolProp in /usr/local/lib/python3.7/dist-packages (6.4.1)\n"
          ],
          "name": "stdout"
        }
      ]
    },
    {
      "cell_type": "markdown",
      "metadata": {
        "id": "8Cowkq8aoKuJ"
      },
      "source": [
        "The above code should let you know that the library was installed (or previously installed in subsequent executions).\r\n",
        "\r\n",
        "Now, we import the library:"
      ]
    },
    {
      "cell_type": "code",
      "metadata": {
        "id": "ymArq5VkpkVE"
      },
      "source": [
        "import CoolProp.CoolProp as CP"
      ],
      "execution_count": 2,
      "outputs": []
    },
    {
      "cell_type": "markdown",
      "metadata": {
        "id": "m-FXQ1ZFpsBS"
      },
      "source": [
        "We are only import the part of the library that we will use, and, we are giving it an alias so that when we access it we don't have to type so much.\r\n",
        "\r\n",
        "Now we can call the library's functions, for example to evaluate the saturation temperature of water at 1 atm (seems like we should already know that though):"
      ]
    },
    {
      "cell_type": "code",
      "metadata": {
        "colab": {
          "base_uri": "https://localhost:8080/"
        },
        "id": "PG9fR5srqYZr",
        "outputId": "2e8cff5c-5081-47f5-955e-7d4477986420"
      },
      "source": [
        "T_sat = CP.PropsSI('T','P',101325.,'Q',0.,'Water')\r\n",
        "# Simple print statement:\r\n",
        "print(T_sat)\r\n",
        "# More useful print statement\r\n",
        "print('The saturation temperature at 1 atm is: '+str(round(T_sat ,4))+' K')"
      ],
      "execution_count": 3,
      "outputs": [
        {
          "output_type": "stream",
          "text": [
            "373.1242958476844\n",
            "The saturation temperature at 1 atm is: 373.1243 K\n"
          ],
          "name": "stdout"
        }
      ]
    },
    {
      "cell_type": "markdown",
      "metadata": {
        "id": "TIHnYjALrTvd"
      },
      "source": [
        "We can see a few things from this simple example.\r\n",
        "\r\n",
        "First the units are fundamental SI units: Pa, K, J, N, m, ...\r\n",
        "\r\n",
        "Next we see the function call is:\r\n",
        "\r\n",
        "(1) a string telling function what you would like returned, here, 'T', which stands for temperature.\r\n",
        "\r\n",
        "(2) the first intensive property that you know, via a string, here, 'P', which stands for Pressure.\r\n",
        "\r\n",
        "(3) the SI united value of the first intensive property.\r\n",
        "\r\n",
        "(4) the second intensive property that you know, via a string, here, 'Q', which stands for Quality.  Note that we would get the same value of T_sat for any valid quality, namely Q in [0,1].\r\n",
        "\r\n",
        "(5) the SI united value of the second intensive property.\r\n",
        "\r\n",
        "(6) the substance of which you want to find the property.  Note here that this can be a pure substance, like 'Water', or a pseudo-pure substance (acts approximately like a pure substance), like 'Air'.\r\n",
        "\r\n",
        "This makes sense, if we know two independent intensive properties, we can find all others.\r\n",
        "\r\n",
        "You could find the enthalpy of saturated water vapor at 1 atm with:"
      ]
    },
    {
      "cell_type": "code",
      "metadata": {
        "colab": {
          "base_uri": "https://localhost:8080/"
        },
        "id": "btm0Fm1VuTZp",
        "outputId": "e0331ac7-0ca6-4417-ce83-e3d899c74869"
      },
      "source": [
        "H_sat_vapor = CP.PropsSI('H','P',101325.,'Q',1.,'Water')\r\n",
        "print('The enthalpy of saturated water vapor at 1 atm is: '+str(round(H_sat_vapor ,4))+' J/kg')"
      ],
      "execution_count": 4,
      "outputs": [
        {
          "output_type": "stream",
          "text": [
            "The enthalpy of saturated water vapor at 1 atm is: 2675529.3255 J/kg\n"
          ],
          "name": "stdout"
        }
      ]
    },
    {
      "cell_type": "markdown",
      "metadata": {
        "id": "RXzL3phmu-AN"
      },
      "source": [
        "This value should be 1000 times what is listed in your book (book's tables are in kJ/kg).\r\n",
        "\r\n",
        "To find the entropy of air at 3 atm and 1500 K you would input:"
      ]
    },
    {
      "cell_type": "code",
      "metadata": {
        "colab": {
          "base_uri": "https://localhost:8080/"
        },
        "id": "vEkpKaYFvMdu",
        "outputId": "b8d682d1-750c-4f57-9fe1-8d49a3374226"
      },
      "source": [
        "S_air = CP.PropsSI('S','P',3.*101325.,'T',1500.,'Air')\r\n",
        "print('The entropy of air at 3 atm and 1500 K is: '+str(round(S_air ,4))+' J/(kg K)')"
      ],
      "execution_count": 5,
      "outputs": [
        {
          "output_type": "stream",
          "text": [
            "The entropy of air at 3 atm and 1500 K is: 5315.3342 J/(kg K)\n"
          ],
          "name": "stdout"
        }
      ]
    },
    {
      "cell_type": "markdown",
      "metadata": {
        "id": "6QnQywBOwXfY"
      },
      "source": [
        "This value will not be directly comparable to values in the book’s tables due to differences in the reference state, but as long as you are finding ∆s, which we will be, then you should find comparable results—try it."
      ]
    },
    {
      "cell_type": "code",
      "metadata": {
        "id": "A-yNSbSBwbo9"
      },
      "source": [
        ""
      ],
      "execution_count": 5,
      "outputs": []
    }
  ]
}