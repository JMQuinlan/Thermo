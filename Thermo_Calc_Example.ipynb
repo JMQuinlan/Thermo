{
  "nbformat": 4,
  "nbformat_minor": 0,
  "metadata": {
    "colab": {
      "name": "Untitled0.ipynb",
      "provenance": [],
      "authorship_tag": "ABX9TyNS5qY2hszpTW/GLqQ7VyS5",
      "include_colab_link": true
    },
    "kernelspec": {
      "name": "python3",
      "display_name": "Python 3"
    }
  },
  "cells": [
    {
      "cell_type": "markdown",
      "metadata": {
        "id": "view-in-github",
        "colab_type": "text"
      },
      "source": [
        "<a href=\"https://colab.research.google.com/github/JMQuinlan/Thermo/blob/main/Thermo_Calc_Example.ipynb\" target=\"_parent\"><img src=\"https://colab.research.google.com/assets/colab-badge.svg\" alt=\"Open In Colab\"/></a>"
      ]
    },
    {
      "cell_type": "markdown",
      "metadata": {
        "id": "II5cD9jNhHRZ"
      },
      "source": [
        "# MAE 3302 - Thermo 2\r\n",
        "# Thermodynamic calculations the easy way!\r\n",
        "\r\n",
        ":copyright: 2021 J. M. Quinlan\r\n"
      ]
    },
    {
      "cell_type": "markdown",
      "metadata": {
        "id": "LmxypGZmh-iE"
      },
      "source": [
        "Let's start by installing any libraies that we will need.\r\n",
        "Here only \"CoolProp\":"
      ]
    },
    {
      "cell_type": "code",
      "metadata": {
        "colab": {
          "base_uri": "https://localhost:8080/"
        },
        "id": "jpM1uGKXhCu8",
        "outputId": "b78c9d1e-853d-4184-c632-ad32244905bc"
      },
      "source": [
        "! pip install CoolProp"
      ],
      "execution_count": 1,
      "outputs": [
        {
          "output_type": "stream",
          "text": [
            "Collecting CoolProp\n",
            "\u001b[?25l  Downloading https://files.pythonhosted.org/packages/2d/c9/321ff0b7ddefbfdb653ff9a4eb7bf3cf812c94ff162d24fd6f12c7bcc808/CoolProp-6.4.1-cp37-cp37m-manylinux1_x86_64.whl (4.2MB)\n",
            "\u001b[K     |████████████████████████████████| 4.2MB 5.9MB/s \n",
            "\u001b[?25hInstalling collected packages: CoolProp\n",
            "Successfully installed CoolProp-6.4.1\n"
          ],
          "name": "stdout"
        }
      ]
    }
  ]
}