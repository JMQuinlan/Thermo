{
  "nbformat": 4,
  "nbformat_minor": 0,
  "metadata": {
    "colab": {
      "name": "Brayton_Cycle.ipynb",
      "provenance": [],
      "collapsed_sections": [],
      "include_colab_link": true
    },
    "kernelspec": {
      "name": "python3",
      "display_name": "Python 3"
    }
  },
  "cells": [
    {
      "cell_type": "markdown",
      "metadata": {
        "id": "view-in-github",
        "colab_type": "text"
      },
      "source": [
        "<a href=\"https://colab.research.google.com/github/JMQuinlan/Thermo/blob/Development/Brayton_Cycle.ipynb\" target=\"_parent\"><img src=\"https://colab.research.google.com/assets/colab-badge.svg\" alt=\"Open In Colab\"/></a>"
      ]
    },
    {
      "cell_type": "markdown",
      "metadata": {
        "id": "II5cD9jNhHRZ"
      },
      "source": [
        "# MAE 3302 - Thermo 2\n",
        "# Brayton cycle example\n",
        "copyright 2021 - J. M. Quinlan  \n",
        "University of Colorado  \n",
        "Colorado Springs\n",
        "\n",
        "This notebook will show you how to evaluate thermodynamic cycles using CoolProp, a python wrapper based on NIST tables in the form of RefProp.\n",
        "\n",
        "Specifically we perform calculations for a Brayton cycle (constant pressure heat addition) that we did as an example.\n"
      ]
    },
    {
      "cell_type": "markdown",
      "metadata": {
        "id": "LmxypGZmh-iE"
      },
      "source": [
        "# Prepare server and load any required libraries\n",
        "Let's start by installing any libraries that we will need.\n",
        "Here only \"CoolProp.\n",
        "Then load required libraries."
      ]
    },
    {
      "cell_type": "code",
      "metadata": {
        "colab": {
          "base_uri": "https://localhost:8080/"
        },
        "id": "jpM1uGKXhCu8",
        "outputId": "5780c6b2-c26d-4bc1-83cc-7a942758ed65"
      },
      "source": [
        "! pip install CoolProp\n",
        "import CoolProp.CoolProp as CP"
      ],
      "execution_count": 1,
      "outputs": [
        {
          "output_type": "stream",
          "text": [
            "Collecting CoolProp\n",
            "\u001b[?25l  Downloading https://files.pythonhosted.org/packages/2d/c9/321ff0b7ddefbfdb653ff9a4eb7bf3cf812c94ff162d24fd6f12c7bcc808/CoolProp-6.4.1-cp37-cp37m-manylinux1_x86_64.whl (4.2MB)\n",
            "\u001b[K     |████████████████████████████████| 4.2MB 8.7MB/s \n",
            "\u001b[?25hInstalling collected packages: CoolProp\n",
            "Successfully installed CoolProp-6.4.1\n"
          ],
          "name": "stdout"
        }
      ]
    },
    {
      "cell_type": "markdown",
      "metadata": {
        "id": "8Cowkq8aoKuJ"
      },
      "source": [
        "# Initialize case\n",
        "\n",
        "Let's specify the knows quantities of the cycle here.\n",
        "\n",
        "\n",
        "For the cycle we will take the input to the compressor (state 1) as $300\\,$K and $95\\,$kPa (note that we use fundamental SI units, $95\\,000\\,$Pa) and a compressor ratio of 6, $r_p = 6$.\n",
        "\n",
        "We will also fix the turbine inlet (state 3) temperature, since this is typically limited by the material and cooling of the turbine blades.\n",
        "Here we'll take $T_\\mathrm{max} = T_3 = 1100\\,$K.\n"
      ]
    },
    {
      "cell_type": "code",
      "metadata": {
        "id": "ymArq5VkpkVE"
      },
      "source": [
        "p1 = 95000.\n",
        "T1 = 300.\n",
        "rp = 6.\n",
        "T3 = 1100."
      ],
      "execution_count": 2,
      "outputs": []
    },
    {
      "cell_type": "markdown",
      "metadata": {
        "id": "m-FXQ1ZFpsBS"
      },
      "source": [
        "We can now use the definitions of the cycle to get from one state to the next.\n",
        "\n",
        "Recall:\n",
        "\n",
        "# Ideal Brayton cycle\n",
        "1-2 Isentropic (adiabatic and internally reversible) compression (compressor)  \n",
        "2-3 Constant pressure heat addition (combustor)  \n",
        "3-4 Isentropic (adiabatic and internally reversible) expansion (turbine)  \n",
        "4-1 Constant pressure heat rejection (fake heat rejection to model exhaust/intake from atmosphere)\n",
        "\n",
        "\n",
        "# Ideal Brayton cycle analysis\n",
        "So for the Brayton cycle we can work from state 1 (fully defined by two independent intensive properties, here pressure and temperature) to state 2 (where we know the pressure and the fact that the process is isentropic, so $s_2 = s_1$):"
      ]
    },
    {
      "cell_type": "code",
      "metadata": {
        "colab": {
          "base_uri": "https://localhost:8080/"
        },
        "id": "PG9fR5srqYZr",
        "outputId": "98ec5fc8-404a-4ed7-8859-11a5ea2d014e"
      },
      "source": [
        "h1 = CP.PropsSI('H','T',T1, 'P',p1,'Air')\n",
        "s1 = CP.PropsSI('S','T',T1, 'P',p1,'Air')\n",
        "p2 = p1*rp\n",
        "s2 = s1\n",
        "h2 = CP.PropsSI('H','S',s2, 'P',p2,'Air')\n",
        "w12 = h2 - h1\n",
        "# print the mass specific compressor work\n",
        "print('The mass specific compressor work is: '+str(round(w12/1000. ,2))+' kJ/kg')"
      ],
      "execution_count": 3,
      "outputs": [
        {
          "output_type": "stream",
          "text": [
            "The mass specific compressor work is: 201.37 kJ/kg\n"
          ],
          "name": "stdout"
        }
      ]
    },
    {
      "cell_type": "markdown",
      "metadata": {
        "id": "TIHnYjALrTvd"
      },
      "source": [
        "Let's look at the combustor now.  \n",
        "State 3 (turbine inlet) has a specified temperature and for a Brayton cycle heat is added at constant pressure, so $p_2 = p_3$."
      ]
    },
    {
      "cell_type": "code",
      "metadata": {
        "colab": {
          "base_uri": "https://localhost:8080/"
        },
        "id": "btm0Fm1VuTZp",
        "outputId": "a0964a96-c459-41f0-d522-c81ebf271dd3"
      },
      "source": [
        "p3 = p2\n",
        "h3 = CP.PropsSI('H','T',T3, 'P',p3,'Air')\n",
        "s3 = CP.PropsSI('S','T',T3, 'P',p3,'Air')\n",
        "q23 = h3 - h2\n",
        "# print the mass specific heat addition in the combustor\n",
        "print('The mass specific heat addition in the combustor is: '+str(round(q23/1000. ,2))+' kJ/kg')"
      ],
      "execution_count": 4,
      "outputs": [
        {
          "output_type": "stream",
          "text": [
            "The mass specific heat addition in the combustor is: 660.15 kJ/kg\n"
          ],
          "name": "stdout"
        }
      ]
    },
    {
      "cell_type": "markdown",
      "metadata": {
        "id": "RXzL3phmu-AN"
      },
      "source": [
        "Now the turbine analysis.  \n",
        "Here we use the fact that, at least for a power generating gas turbine, the pressure at the turbine exit is near atmospheric pressure.\n",
        "So $p_4 = p_1$.\n",
        "We also use the fact that in this ideal case the expansion is isentropic, $s_3 = s_4$.\n"
      ]
    },
    {
      "cell_type": "code",
      "metadata": {
        "colab": {
          "base_uri": "https://localhost:8080/"
        },
        "id": "vEkpKaYFvMdu",
        "outputId": "b4ee6f56-bf14-4b2c-b233-c6999b95bba6"
      },
      "source": [
        "s4 = s3\n",
        "p4 = p1\n",
        "h4 = CP.PropsSI('H','S',s4, 'P',p4,'Air')\n",
        "w34 = h3 - h4\n",
        "q41 = h4 - h1\n",
        "# print the mass specific turbine work\n",
        "print('The mass specific turbine work is: '+str(round(w34/1000. ,2))+' kJ/kg')\n",
        "# print the mass specific heat rejection in the heat exchanger\n",
        "print('The mass specific heat rejection in the combustor is: '+str(round(q41/1000. ,2))+' kJ/kg')"
      ],
      "execution_count": 5,
      "outputs": [
        {
          "output_type": "stream",
          "text": [
            "The mass specific turbine work is: 455.0 kJ/kg\n",
            "The mass specific heat rejection in the combustor is: 406.53 kJ/kg\n"
          ],
          "name": "stdout"
        }
      ]
    },
    {
      "cell_type": "markdown",
      "metadata": {
        "id": "6QnQywBOwXfY"
      },
      "source": [
        "Now we can calculate the thermal efficiency and back work ratio:"
      ]
    },
    {
      "cell_type": "code",
      "metadata": {
        "colab": {
          "base_uri": "https://localhost:8080/"
        },
        "id": "A-yNSbSBwbo9",
        "outputId": "469edd1d-afdd-4448-9cf6-e058bdf31425"
      },
      "source": [
        "eta_th = (w34 - w12)/q23\n",
        "bwr = w12/w34\n",
        "# print the thermal efficiency\n",
        "print('The Braton cycle thermal efficiency is: '+str(round(eta_th*100. ,2))+' %')\n",
        "# print the back work ratio\n",
        "print('The back work ratio is: '+str(round(bwr ,3)))"
      ],
      "execution_count": 6,
      "outputs": [
        {
          "output_type": "stream",
          "text": [
            "The Braton cycle thermal efficiency is: 38.42 %\n",
            "The back work ratio is: 0.443\n"
          ],
          "name": "stdout"
        }
      ]
    },
    {
      "cell_type": "markdown",
      "metadata": {
        "id": "13uFMl3DBnqa"
      },
      "source": [
        "How does this compare to our \"Example 1\" from Lecture 016?\n",
        "\n",
        "For the same system there we found $\\eta_\\mathrm{th} = 38.5\\,$%, which is slightly higher than the value here.  \n",
        "\n",
        "Why is there a difference?  \n",
        "In the previous example air was assumed to be a thermally perfect gas (TPG) and we could have small rounding errors.  Here air is treated as a \"real\" gas, i.e., we have not assumed that the air is a TPG.  So, enthalpy is allowed to vary with both temperature and pressure, it just doesn't vary very much with pressure--air under these conditions is really well approximated as a TPG.\n",
        "\n",
        "How would you add a reheat to this example?  \n",
        "Hint: copy and paste, then make a few adjustments.\n"
      ]
    }
  ]
}